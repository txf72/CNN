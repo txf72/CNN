{
 "cells": [
  {
   "cell_type": "code",
   "execution_count": null,
   "metadata": {},
   "outputs": [
    {
     "name": "stdout",
     "output_type": "stream",
     "text": [
      "学習データ総数＝ 8500\n",
      "train_data (8500, 1, 28, 28)\n",
      "train_label (8500, 15)\n",
      "train (5950, 1, 28, 28)\n",
      "test (2550, 1, 28, 28)\n",
      "\n",
      "    epoch=0\n"
     ]
    }
   ],
   "source": [
    "import numpy as np\n",
    "import pickle\n",
    "import data_make\n",
    "from train import training\n",
    "from common.model import CustomConvNet\n",
    "from common.optimizer import Adam\n",
    "\n",
    "\n",
    "model = CustomConvNet(input_dim=(1, 28, 28),\n",
    "                     conv_param_1={'filter_num':50, 'filter_size':5, 'pad':1, 'stride':1},\n",
    "                     conv_param_2={'filter_size':3},conv_param_3={'filter_size':1},\n",
    "                     pool_param={'pool_size':2, 'pad':1, 'stride':2},\n",
    "                     hidden_size_1=80, hidden_size_2=30, output_size=15)\n",
    "\n",
    "\n",
    "def main():\n",
    "    \n",
    "    x, t, test, test_labels = data_make.main(8500)\n",
    "\n",
    "    train = training(model=model, epochs=20, \n",
    "                     batch_size=150, optimizer=Adam(lr=0.001, rho1=0.9, rho2=0.999))\n",
    "    \n",
    "    train.train(x, t, test, test_labels)\n",
    "    \n",
    "    weight = model.params\n",
    "    move = train.move\n",
    "    \n",
    "    with open(\"weight.pickle\", \"wb\") as f:\n",
    "        pickle.dump(weight, f)\n",
    "        \n",
    "    with open(\"move.pickle\",\"wb\") as f:\n",
    "        pickle.dump(move, f)\n",
    "        \n",
    "    \n",
    "    return weight, move\n",
    "\n",
    "\n",
    "if __name__==\"__main__\":\n",
    "    main()"
   ]
  },
  {
   "cell_type": "code",
   "execution_count": null,
   "metadata": {},
   "outputs": [],
   "source": []
  }
 ],
 "metadata": {
  "kernelspec": {
   "display_name": "Python 3",
   "language": "python",
   "name": "python3"
  },
  "language_info": {
   "codemirror_mode": {
    "name": "ipython",
    "version": 3
   },
   "file_extension": ".py",
   "mimetype": "text/x-python",
   "name": "python",
   "nbconvert_exporter": "python",
   "pygments_lexer": "ipython3",
   "version": "3.7.3"
  }
 },
 "nbformat": 4,
 "nbformat_minor": 2
}
